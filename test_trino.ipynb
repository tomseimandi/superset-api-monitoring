{
 "cells": [
  {
   "cell_type": "code",
   "execution_count": null,
   "id": "87aea261-5dca-46fb-a17d-ef7d6b955fd2",
   "metadata": {},
   "outputs": [],
   "source": [
    "from pyspark.sql import SparkSession\n",
    "from pyspark.conf import SparkConf\n",
    "\n",
    "spark = (\n",
    "    SparkSession.\n",
    "    builder.\n",
    "    enableHiveSupport().\n",
    "    getOrCreate()\n",
    ")\n",
    "\n",
    "sc = spark.sparkContext"
   ]
  },
  {
   "cell_type": "code",
   "execution_count": null,
   "id": "ca3a1823-c826-4fad-8dad-561477a92180",
   "metadata": {},
   "outputs": [],
   "source": [
    "spark.sql(\"show tables;\").show()"
   ]
  },
  {
   "cell_type": "code",
   "execution_count": null,
   "id": "361eabbe-a9b6-43e6-999e-fd50b2244271",
   "metadata": {},
   "outputs": [],
   "source": [
    "spark.sql(\n",
    "    \"CREATE EXTERNAL TABLE api_logs (\\\n",
    "    timestamp timestamp, \\\n",
    "    sourceAppel string, \\\n",
    "    libelleActivite string, \\\n",
    "    natureActivites string, \\\n",
    "    liasseType string, \\\n",
    "    evenementType string, \\\n",
    "    surface string, \\\n",
    "    libelleNettoye string, \\\n",
    "    prediction_1 string, \\\n",
    "    proba_1 double, \\\n",
    "    prediction_2 string, \\\n",
    "    proba_2 double, \\\n",
    "    bilan string, \\\n",
    "    fasttextVersion string, \\\n",
    "    date date, \\\n",
    "    __index_level_0__ bigint) \\\n",
    "    STORED as parquet LOCATION 's3a://projet-ape/log_files/dashboard/'\")"
   ]
  },
  {
   "cell_type": "code",
   "execution_count": null,
   "id": "056c7a25-2ac8-4177-a7ce-c274f0d44d54",
   "metadata": {},
   "outputs": [],
   "source": [
    "spark.sql(\"show tables;\").show()"
   ]
  },
  {
   "cell_type": "code",
   "execution_count": null,
   "id": "3d421e63-c6fc-4f6a-90c1-bdafff936039",
   "metadata": {},
   "outputs": [],
   "source": [
    "spark.sql('SET spark.sql.hive.convertMetastoreParquet=false')"
   ]
  },
  {
   "cell_type": "code",
   "execution_count": null,
   "id": "031202c7-5902-4194-9f87-7da953e44a09",
   "metadata": {},
   "outputs": [],
   "source": [
    "spark.sql('SET mapreduce.input.fileinputformat.input.dir.recursive=true')"
   ]
  },
  {
   "cell_type": "code",
   "execution_count": null,
   "id": "7629558d-1273-4fea-9958-cbfdadaf6e36",
   "metadata": {},
   "outputs": [],
   "source": [
    "spark.sql('SELECT count(*) from api_logs;').show()"
   ]
  },
  {
   "cell_type": "markdown",
   "id": "40d02e63-7c97-490f-9a9a-a9da6102aef4",
   "metadata": {},
   "source": [
    "## Trino"
   ]
  },
  {
   "cell_type": "code",
   "execution_count": null,
   "id": "e47009b4-2548-43f4-9624-c6e9600041dd",
   "metadata": {},
   "outputs": [],
   "source": [
    "!pip install trino[sqlalchemy]"
   ]
  },
  {
   "cell_type": "code",
   "execution_count": null,
   "id": "1284cf03-4cd5-46b1-9dbd-f2c075699cc6",
   "metadata": {},
   "outputs": [],
   "source": [
    "from sqlalchemy import create_engine\n",
    "from sqlalchemy.schema import Table, MetaData\n",
    "from sqlalchemy.sql.expression import select, text\n",
    "\n",
    "connect_args = { \n",
    "    \"hive\": {\n",
    "        \"recursive-directories\": True\n",
    "    }\n",
    "}\n",
    "engine = create_engine(\n",
    "    'trino://@user-tseimandi-966894.user.lab.sspcloud.fr:443/hive/default',\n",
    "    # connect_args=connect_args\n",
    "    )\n",
    "connection = engine.connect()"
   ]
  },
  {
   "cell_type": "code",
   "execution_count": null,
   "id": "cf01ee8c-f31c-4f0b-afb5-d60d95b96432",
   "metadata": {},
   "outputs": [],
   "source": []
  }
 ],
 "metadata": {
  "kernelspec": {
   "display_name": "Python 3 (ipykernel)",
   "language": "python",
   "name": "python3"
  },
  "language_info": {
   "codemirror_mode": {
    "name": "ipython",
    "version": 3
   },
   "file_extension": ".py",
   "mimetype": "text/x-python",
   "name": "python",
   "nbconvert_exporter": "python",
   "pygments_lexer": "ipython3",
   "version": "3.11.4"
  }
 },
 "nbformat": 4,
 "nbformat_minor": 5
}
